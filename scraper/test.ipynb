{
 "cells": [
  {
   "cell_type": "code",
   "execution_count": 204,
   "metadata": {},
   "outputs": [],
   "source": [
    "import pymorphy2\n",
    "\n",
    "morph = pymorphy2.MorphAnalyzer()\n",
    "\n",
    "data = [{'1.txt': 'Они они они'}, {'2.txt': 'Мы й они'}]\n",
    "index = {'они': ['1.txt', '2.txt'], 'мы': ['2.txt']}\n",
    "\n",
    "\n",
    "def search(query, data, index):\n",
    "    query_splitted = query.split()\n",
    "    query_copy = query\n",
    "    result = []\n",
    "    check = False\n",
    "    for id, doc_pair in enumerate(data):\n",
    "        # for doc_id in doc_pair.keys():\n",
    "\n",
    "        for word in query_splitted:\n",
    "            if word.isalnum():\n",
    "                m = morph.parse(word)[0]\n",
    "                lem = m.normal_form\n",
    "                if lem in index:\n",
    "                    for docs in index.values():\n",
    "                        if id in docs:\n",
    "                            print('sds')\n",
    "                            check = True.__and__()\n",
    "\n",
    "                query_copy = query_copy.replace(word, check.__str__())\n",
    "\n",
    "        if eval(query_copy):\n",
    "            result.append(doc_pair)\n",
    "\n",
    "    return result\n"
   ]
  },
  {
   "cell_type": "code",
   "execution_count": 205,
   "metadata": {},
   "outputs": [
    {
     "data": {
      "text/plain": [
       "[]"
      ]
     },
     "execution_count": 205,
     "metadata": {},
     "output_type": "execute_result"
    }
   ],
   "source": [
    "query = 'они & вы'\n",
    "\n",
    "search(query, data, index)"
   ]
  },
  {
   "cell_type": "code",
   "execution_count": 237,
   "metadata": {},
   "outputs": [
    {
     "name": "stdout",
     "output_type": "stream",
     "text": [
      "1\n"
     ]
    }
   ],
   "source": [
    "x = 'not'\n",
    "for i in ['loop', 'not']:\n",
    "    if i == 'not':\n",
    "        continue\n",
    "    if True:\n",
    "        print(eval('True & (~ False)'))\n"
   ]
  },
  {
   "cell_type": "code",
   "execution_count": 4,
   "metadata": {},
   "outputs": [
    {
     "data": {
      "text/plain": [
       "False"
      ]
     },
     "execution_count": 4,
     "metadata": {},
     "output_type": "execute_result"
    }
   ],
   "source": [
    "False & (not False)\n"
   ]
  },
  {
   "cell_type": "code",
   "execution_count": null,
   "metadata": {},
   "outputs": [],
   "source": []
  }
 ],
 "metadata": {
  "kernelspec": {
   "display_name": "Python 2",
   "language": "python",
   "name": "python2"
  },
  "language_info": {
   "codemirror_mode": {
    "name": "ipython",
    "version": 2
   },
   "file_extension": ".py",
   "mimetype": "text/x-python",
   "name": "python",
   "nbconvert_exporter": "python",
   "pygments_lexer": "ipython2",
   "version": "2.7.6"
  }
 },
 "nbformat": 4,
 "nbformat_minor": 0
}
